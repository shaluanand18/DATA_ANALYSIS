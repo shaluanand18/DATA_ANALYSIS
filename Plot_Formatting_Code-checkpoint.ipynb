{
 "cells": [
  {
   "cell_type": "code",
   "execution_count": null,
   "metadata": {},
   "outputs": [],
   "source": [
    "#of course, it won't run here but this was line plot code for formatting."
   ]
  },
  {
   "cell_type": "code",
   "execution_count": null,
   "metadata": {},
   "outputs": [],
   "source": [
    "#Economy Auto Group Index Stock Price Change\n",
    "minvalue = EconIndex.loc[EconIndex['Stock WtAvg'].idxmin()]  # Min price for Y-axis\n",
    "#print(minvalue)\n",
    "maxvalue = EconIndex.loc[EconIndex['Stock WtAvg'].idxmax()]  # Max price for Y-axis\n",
    "#print(maxvalue)\n",
    "\n",
    "# Line chart selection\n",
    "EconIndex.plot.line(x='Date', y='Stock WtAvg', legend = False, rot=60, title=\"Economy Auto Group Index Price Change\");\n",
    "\n",
    "# Sets the y limits: minvalue and max value plus a bit at the top and bottom of scale.\n",
    "plt.ylim(15, 60)\n",
    "\n",
    "# Provides labels\n",
    "plt.xlabel(\" \")\n",
    "plt.ylabel(\"Index Price (USD)\", fontsize=12)\n",
    "\n",
    "plt.tick_params(axis='both', direction='out', length=6, width=2, labelcolor = 'black',colors='teal')\n",
    "\n",
    "# Major grid lines\n",
    "plt.grid(b=True, which='major', color='lightblue', alpha=0.6, linestyle='dashdot', lw=1.5)\n",
    "\n",
    "# Minor grid lines\n",
    "plt.minorticks_on()\n",
    "plt.grid(b=True, which='minor', color='beige', alpha=0.8, ls='-', lw=1)\n",
    "\n",
    "# Save the figure as .png\n",
    "plt.savefig('Images/Economy AG Index Stock Price Change.png')\n",
    "\n",
    "plt.show(block=True)"
   ]
  },
  {
   "cell_type": "code",
   "execution_count": null,
   "metadata": {},
   "outputs": [],
   "source": [
    "# Two line plot\n",
    "\n",
    "\n",
    "#Variables for data\n",
    "x_axis1 = UE_data['Date']\n",
    "x_axis2 = customer_df['Date']\n",
    "\n",
    "y_axis1 = UE_data['Rate (%)']\n",
    "y_axis2 = customer_df['Good Time<br>Times good']\n",
    "\n",
    "#Copied from https://matplotlib.org/3.1.1/gallery/subplots_axes_and_figures/secondary_axis.html#sphx-glr-gallery-subplots-axes-and-figures-secondary-axis-py\n",
    "fig, ax1 = plt.subplots()\n",
    "\n",
    "color = 'tab:red'\n",
    "ax1.set_xlabel('Date')\n",
    "ax1.set_ylabel('Unemployment', color=color)\n",
    "ax1.plot(x_axis1, y_axis1, color=color,\n",
    "                  markevery=find_loc(UEI, dates), marker='s', markerfacecolor='red')\n",
    "ax1.tick_params(axis='y', labelcolor=color)\n",
    "plt.xticks(rotation=60)\n",
    "ax2 = ax1.twinx()  # instantiate a second axes that shares the same x-axis\n",
    "\n",
    "color = 'tab:blue'\n",
    "ax2.set_ylabel('Consumer Sentiment', color=color)  # we already handled the x-label with ax1\n",
    "ax2.plot(x_axis2, y_axis2, color=color,\n",
    "        markevery=find_loc(CSI, datesCSI), marker='s', markerfacecolor='red')\n",
    "ax2.tick_params(axis='y', labelcolor=color)\n",
    "\n",
    "fig.tight_layout()  # otherwise the right y-label is slightly clipped\n",
    "\n",
    "#Major Grid\n",
    "plt.grid(b=True, which='major', color='lightblue', alpha=0.6, linestyle='dashdot', lw=1.5)\n",
    "# Minor grid lines\n",
    "plt.minorticks_on()\n",
    "plt.grid(b=True, which='minor', color='beige', alpha=0.8, ls='-', lw=1)\n",
    "\n",
    "# Save the figure as .png\n",
    "plt.savefig('Images/UEvsCS.png')\n",
    "\n",
    "plt.show(block=True)"
   ]
  }
 ],
 "metadata": {
  "kernelspec": {
   "display_name": "Python 3",
   "language": "python",
   "name": "python3"
  },
  "language_info": {
   "codemirror_mode": {
    "name": "ipython",
    "version": 3
   },
   "file_extension": ".py",
   "mimetype": "text/x-python",
   "name": "python",
   "nbconvert_exporter": "python",
   "pygments_lexer": "ipython3",
   "version": "3.8.3"
  }
 },
 "nbformat": 4,
 "nbformat_minor": 4
}
